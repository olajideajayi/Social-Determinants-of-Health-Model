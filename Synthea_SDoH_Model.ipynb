{
 "cells": [
  {
   "cell_type": "code",
   "execution_count": 1,
   "id": "228d39f6",
   "metadata": {
    "gather": {
     "logged": 1670503626824
    }
   },
   "outputs": [],
   "source": [
    "#Loading necessary libraries for the project at hand\n",
    "import warnings\n",
    "from azure.storage.blob import BlobClient # Connection to Azure Directory/Blob Service\n",
    "from collections import Counter\n",
    "from sklearn.model_selection import cross_val_predict\n",
    "from sklearn.linear_model import LogisticRegression\n",
    "from sklearn.tree import DecisionTreeClassifier\n",
    "from sklearn.svm import SVC\n",
    "from sklearn.ensemble import (RandomForestClassifier, AdaBoostClassifier, ExtraTreesClassifier, GradientBoostingClassifier)\n",
    "from sklearn.neighbors import KNeighborsClassifier\n",
    "from sklearn.base import TransformerMixin #create new classes for transformations\n",
    "from sklearn.preprocessing import (FunctionTransformer, StandardScaler) #preprocessing \n",
    "from sklearn.decomposition import PCA as pca #dimensionality reduction\n",
    "from sklearn.discriminant_analysis import LinearDiscriminantAnalysis as LDA #Discriminant Analysis\n",
    "from sklearn.model_selection import (train_test_split, KFold , StratifiedKFold, cross_val_score,cross_val_predict, GridSearchCV, learning_curve, validation_curve) # model selection modules\n",
    "from sklearn.pipeline import Pipeline # streaming pipelines\n",
    "from sklearn.base import BaseEstimator, TransformerMixin #create a box-cox transformation\n",
    "from sklearn.naive_bayes import GaussianNB\n",
    "from xgboost import (XGBClassifier, plot_importance)\n",
    "from time import time\n",
    "from pandasql import sqldf #SQL for data wrangling\n",
    "import numpy as np  #linear algebra\n",
    "import pandas as pd  #read and wrangling\n",
    "import matplotlib.pyplot as plt #visualizations\n",
    "import seaborn as sns #other visualizations\n",
    "import transformers #tranformations\n",
    "from scipy.stats import boxcox # data transform\n",
    "from datetime import datetime, date\n",
    "import os, json\n",
    "import pandas as pd\n",
    "from pandas.io.json import json_normalize #package for flattening json in pandas df\n",
    "import pylab\n",
    "import scipy.stats as stats\n",
    "from sklearn.feature_selection import RFECV\n",
    "from sklearn.metrics import accuracy_score\n",
    "import json\n",
    "\n",
    "\n",
    "%matplotlib inline \n",
    "warnings.filterwarnings('ignore')\n",
    "sns.set_style('whitegrid')"
   ]
  },
  {
   "cell_type": "code",
   "execution_count": 2,
   "id": "410c236b",
   "metadata": {
    "gather": {
     "logged": 1670503632624
    }
   },
   "outputs": [],
   "source": [
    "#pip install pandas"
   ]
  },
  {
   "cell_type": "code",
   "execution_count": 3,
   "id": "163d7ca5",
   "metadata": {
    "gather": {
     "logged": 1670503635102
    }
   },
   "outputs": [],
   "source": [
    "#Azure credential and Synthea Datasets\n",
    "blob = BlobClient(account_url=\"https://olastorageac.blob.core.windows.net\",\n",
    "                  container_name=\"sdoh\",\n",
    "                  blob_name=\"SDoH_datainput.csv\",\n",
    "                  credential=\"yyyyyyyyyyyyyy\")"
   ]
  },
  {
   "cell_type": "code",
   "execution_count": 4,
   "id": "72c845df",
   "metadata": {
    "gather": {
     "logged": 1670503639705
    }
   },
   "outputs": [],
   "source": [
    "#Open dataset\n",
    "with open(\"SDoH_datainput.csv\", \"wb\") as a:\n",
    "    data = blob.download_blob()\n",
    "    data.readinto(a)"
   ]
  },
  {
   "cell_type": "code",
   "execution_count": 8,
   "id": "e1a915bc",
   "metadata": {
    "gather": {
     "logged": 1670503857718
    }
   },
   "outputs": [],
   "source": [
    "#Read Synthea Datasets\n",
    "#data preprocessed using patients and conditions FHIR assets, CMS policy - April 1, 2019, SDoH_2020_ZIPCODE_1_0 -AHRQ\n",
    "#Risk Score calculated using zip code level income, household and individual income to get Z score and corresponding probability values\n",
    "sdohdata = pd.read_csv(\"SDoH_datainput.csv\", encoding= 'unicode_escape')"
   ]
  },
  {
   "cell_type": "code",
   "execution_count": 9,
   "id": "f74ccacd",
   "metadata": {
    "gather": {
     "logged": 1670503907460
    }
   },
   "outputs": [
    {
     "data": {
      "text/html": [
       "<div>\n",
       "<style scoped>\n",
       "    .dataframe tbody tr th:only-of-type {\n",
       "        vertical-align: middle;\n",
       "    }\n",
       "\n",
       "    .dataframe tbody tr th {\n",
       "        vertical-align: top;\n",
       "    }\n",
       "\n",
       "    .dataframe thead th {\n",
       "        text-align: right;\n",
       "    }\n",
       "</style>\n",
       "<table border=\"1\" class=\"dataframe\">\n",
       "  <thead>\n",
       "    <tr style=\"text-align: right;\">\n",
       "      <th></th>\n",
       "      <th>patients_Id</th>\n",
       "      <th>patients_BIRTHDATE</th>\n",
       "      <th>patients_DEATHDATE</th>\n",
       "      <th>patients_SSN</th>\n",
       "      <th>patients_DRIVERS</th>\n",
       "      <th>patients_PASSPORT</th>\n",
       "      <th>patients_PREFIX</th>\n",
       "      <th>patients_FIRST</th>\n",
       "      <th>patients_LAST</th>\n",
       "      <th>patients_SUFFIX</th>\n",
       "      <th>...</th>\n",
       "      <th>CMS_Solution</th>\n",
       "      <th>Name_of_Servicer</th>\n",
       "      <th>Servicer_Address</th>\n",
       "      <th>Servicer_ZiPcode</th>\n",
       "      <th>Servicer_LON</th>\n",
       "      <th>Servicer_LAT</th>\n",
       "      <th>Servicer_Phone_Number</th>\n",
       "      <th>Distance_miles_to_Servicer</th>\n",
       "      <th>Primary Key</th>\n",
       "      <th>Gap-dataverse</th>\n",
       "    </tr>\n",
       "  </thead>\n",
       "  <tbody>\n",
       "    <tr>\n",
       "      <th>0</th>\n",
       "      <td>2e3f986b-0894-4e57-a893-5d7eb334c829</td>\n",
       "      <td>6/14/1945</td>\n",
       "      <td>NaN</td>\n",
       "      <td>999-29-6195</td>\n",
       "      <td>NaN</td>\n",
       "      <td>NaN</td>\n",
       "      <td>NaN</td>\n",
       "      <td>Monica</td>\n",
       "      <td>Thomson</td>\n",
       "      <td>NaN</td>\n",
       "      <td>...</td>\n",
       "      <td>Home Air Cleaners</td>\n",
       "      <td>UI Home Air Cleaners</td>\n",
       "      <td>123 Sporer Throughway</td>\n",
       "      <td>1013</td>\n",
       "      <td>42.500148</td>\n",
       "      <td>-72.963307</td>\n",
       "      <td>800-123-1111</td>\n",
       "      <td>12</td>\n",
       "      <td>Asthma with SDoH Score of 0.88, Address of Clo...</td>\n",
       "      <td>Asthma with SDoH Score of 0.88</td>\n",
       "    </tr>\n",
       "    <tr>\n",
       "      <th>1</th>\n",
       "      <td>2e3f986b-0894-4e57-a893-5d7eb334c829</td>\n",
       "      <td>6/14/1945</td>\n",
       "      <td>NaN</td>\n",
       "      <td>999-29-6195</td>\n",
       "      <td>NaN</td>\n",
       "      <td>NaN</td>\n",
       "      <td>NaN</td>\n",
       "      <td>Monica</td>\n",
       "      <td>Thomson</td>\n",
       "      <td>NaN</td>\n",
       "      <td>...</td>\n",
       "      <td>Carpet Shampooing</td>\n",
       "      <td>NMA Carpet Shampooing</td>\n",
       "      <td>123 Sporer Throughway</td>\n",
       "      <td>1013</td>\n",
       "      <td>42.500148</td>\n",
       "      <td>-72.963307</td>\n",
       "      <td>800-123-1112</td>\n",
       "      <td>12</td>\n",
       "      <td>Asthma with SDoH Risk Score of 0.88, Address o...</td>\n",
       "      <td>Asthma with SDoH Score of 0.88</td>\n",
       "    </tr>\n",
       "    <tr>\n",
       "      <th>2</th>\n",
       "      <td>2e3f986b-0894-4e57-a893-5d7eb334c829</td>\n",
       "      <td>6/14/1945</td>\n",
       "      <td>NaN</td>\n",
       "      <td>999-29-6195</td>\n",
       "      <td>NaN</td>\n",
       "      <td>NaN</td>\n",
       "      <td>NaN</td>\n",
       "      <td>Monica</td>\n",
       "      <td>Thomson</td>\n",
       "      <td>NaN</td>\n",
       "      <td>...</td>\n",
       "      <td>Transportation to Doctors Appointment</td>\n",
       "      <td>ABC Transport Services</td>\n",
       "      <td>123 Sporer Throughway</td>\n",
       "      <td>1013</td>\n",
       "      <td>42.500148</td>\n",
       "      <td>-72.963307</td>\n",
       "      <td>800-123-1113</td>\n",
       "      <td>12</td>\n",
       "      <td>Diabetes with SDoH Risk Score of 0.88, Address...</td>\n",
       "      <td>Diabetes with SDoH Score of 0.88</td>\n",
       "    </tr>\n",
       "    <tr>\n",
       "      <th>3</th>\n",
       "      <td>2e3f986b-0894-4e57-a893-5d7eb334c829</td>\n",
       "      <td>6/14/1945</td>\n",
       "      <td>NaN</td>\n",
       "      <td>999-29-6195</td>\n",
       "      <td>NaN</td>\n",
       "      <td>NaN</td>\n",
       "      <td>NaN</td>\n",
       "      <td>Monica</td>\n",
       "      <td>Thomson</td>\n",
       "      <td>NaN</td>\n",
       "      <td>...</td>\n",
       "      <td>Diabetes Education Program</td>\n",
       "      <td>XYZ Diabetes Education</td>\n",
       "      <td>123 Sporer Throughway</td>\n",
       "      <td>1013</td>\n",
       "      <td>42.500148</td>\n",
       "      <td>-72.963307</td>\n",
       "      <td>800-123-1114</td>\n",
       "      <td>12</td>\n",
       "      <td>Diabetes with SDoH Risk Score of 0.88, Address...</td>\n",
       "      <td>Diabetes with SDoH Score of 0.88</td>\n",
       "    </tr>\n",
       "    <tr>\n",
       "      <th>4</th>\n",
       "      <td>b271a454-c57e-4566-899a-956e5484c5e1</td>\n",
       "      <td>11/6/1985</td>\n",
       "      <td>NaN</td>\n",
       "      <td>999-25-1978</td>\n",
       "      <td>S99925735</td>\n",
       "      <td>X63252514X</td>\n",
       "      <td>Mr.</td>\n",
       "      <td>Donovan745</td>\n",
       "      <td>Kiehn525</td>\n",
       "      <td>NaN</td>\n",
       "      <td>...</td>\n",
       "      <td>Transportation to Doctors Appointment</td>\n",
       "      <td>ABC Transport Services</td>\n",
       "      <td>123 Sporer Throughway</td>\n",
       "      <td>1013</td>\n",
       "      <td>42.500148</td>\n",
       "      <td>-72.963307</td>\n",
       "      <td>800-123-1113</td>\n",
       "      <td>13</td>\n",
       "      <td>Diabetes with SDoH Risk Score of 0.85, Address...</td>\n",
       "      <td>Diabetes with SDoH Score of 0.85</td>\n",
       "    </tr>\n",
       "  </tbody>\n",
       "</table>\n",
       "<p>5 rows × 37 columns</p>\n",
       "</div>"
      ],
      "text/plain": [
       "                            patients_Id patients_BIRTHDATE patients_DEATHDATE  \\\n",
       "0  2e3f986b-0894-4e57-a893-5d7eb334c829          6/14/1945                NaN   \n",
       "1  2e3f986b-0894-4e57-a893-5d7eb334c829          6/14/1945                NaN   \n",
       "2  2e3f986b-0894-4e57-a893-5d7eb334c829          6/14/1945                NaN   \n",
       "3  2e3f986b-0894-4e57-a893-5d7eb334c829          6/14/1945                NaN   \n",
       "4  b271a454-c57e-4566-899a-956e5484c5e1          11/6/1985                NaN   \n",
       "\n",
       "  patients_SSN patients_DRIVERS patients_PASSPORT patients_PREFIX  \\\n",
       "0  999-29-6195              NaN               NaN             NaN   \n",
       "1  999-29-6195              NaN               NaN             NaN   \n",
       "2  999-29-6195              NaN               NaN             NaN   \n",
       "3  999-29-6195              NaN               NaN             NaN   \n",
       "4  999-25-1978        S99925735        X63252514X             Mr.   \n",
       "\n",
       "  patients_FIRST patients_LAST patients_SUFFIX  ...  \\\n",
       "0         Monica       Thomson             NaN  ...   \n",
       "1         Monica       Thomson             NaN  ...   \n",
       "2         Monica       Thomson             NaN  ...   \n",
       "3         Monica       Thomson             NaN  ...   \n",
       "4     Donovan745      Kiehn525             NaN  ...   \n",
       "\n",
       "                             CMS_Solution        Name_of_Servicer  \\\n",
       "0                      Home Air Cleaners    UI Home Air Cleaners    \n",
       "1                       Carpet Shampooing   NMA Carpet Shampooing   \n",
       "2  Transportation to Doctors Appointment  ABC Transport Services   \n",
       "3              Diabetes Education Program  XYZ Diabetes Education   \n",
       "4  Transportation to Doctors Appointment  ABC Transport Services   \n",
       "\n",
       "         Servicer_Address Servicer_ZiPcode Servicer_LON Servicer_LAT  \\\n",
       "0   123 Sporer Throughway             1013    42.500148   -72.963307   \n",
       "1  123 Sporer Throughway              1013    42.500148   -72.963307   \n",
       "2   123 Sporer Throughway             1013    42.500148   -72.963307   \n",
       "3  123 Sporer Throughway              1013    42.500148   -72.963307   \n",
       "4   123 Sporer Throughway             1013    42.500148   -72.963307   \n",
       "\n",
       "  Servicer_Phone_Number Distance_miles_to_Servicer  \\\n",
       "0          800-123-1111                         12   \n",
       "1          800-123-1112                         12   \n",
       "2          800-123-1113                         12   \n",
       "3          800-123-1114                         12   \n",
       "4          800-123-1113                         13   \n",
       "\n",
       "                                         Primary Key  \\\n",
       "0  Asthma with SDoH Score of 0.88, Address of Clo...   \n",
       "1  Asthma with SDoH Risk Score of 0.88, Address o...   \n",
       "2  Diabetes with SDoH Risk Score of 0.88, Address...   \n",
       "3  Diabetes with SDoH Risk Score of 0.88, Address...   \n",
       "4  Diabetes with SDoH Risk Score of 0.85, Address...   \n",
       "\n",
       "                      Gap-dataverse  \n",
       "0    Asthma with SDoH Score of 0.88  \n",
       "1    Asthma with SDoH Score of 0.88  \n",
       "2  Diabetes with SDoH Score of 0.88  \n",
       "3  Diabetes with SDoH Score of 0.88  \n",
       "4  Diabetes with SDoH Score of 0.85  \n",
       "\n",
       "[5 rows x 37 columns]"
      ]
     },
     "execution_count": 9,
     "metadata": {},
     "output_type": "execute_result"
    }
   ],
   "source": [
    "#Sample data - patients\n",
    "sdohdata.head(5)"
   ]
  },
  {
   "cell_type": "code",
   "execution_count": 10,
   "id": "099c1192",
   "metadata": {
    "gather": {
     "logged": 1670504355669
    }
   },
   "outputs": [
    {
     "data": {
      "text/plain": [
       "patients_Id                          object\n",
       "patients_BIRTHDATE                   object\n",
       "patients_DEATHDATE                   object\n",
       "patients_SSN                         object\n",
       "patients_DRIVERS                     object\n",
       "patients_PASSPORT                    object\n",
       "patients_PREFIX                      object\n",
       "patients_FIRST                       object\n",
       "patients_LAST                        object\n",
       "patients_SUFFIX                      object\n",
       "patients_MAIDEN                      object\n",
       "patients_MARITAL                     object\n",
       "patients_RACE                        object\n",
       "patients_ETHNICITY                   object\n",
       "patients_GENDER                      object\n",
       "patients_BIRTHPLACE                  object\n",
       "patients_ADDRESS                     object\n",
       "patients_CITY                        object\n",
       "patients_STATE                       object\n",
       "patients_COUNTY                      object\n",
       "patients_ZIP                          int64\n",
       "patients_LAT                        float64\n",
       "patients_LON                        float64\n",
       "patients_HEALTHCARE_EXPENSES        float64\n",
       "patients_HEALTHCARE_COVERAGE        float64\n",
       "conditions_DESCRIPTION               object\n",
       "SDoH_2020_ZIPCODE_1_0_Risk_Score    float64\n",
       "CMS_Solution                         object\n",
       "Name_of_Servicer                     object\n",
       "Servicer_Address                     object\n",
       "Servicer_ZiPcode                      int64\n",
       "Servicer_LON                        float64\n",
       "Servicer_LAT                        float64\n",
       "Servicer_Phone_Number                object\n",
       "Distance_miles_to_Servicer            int64\n",
       "Primary Key                          object\n",
       "Gap-dataverse                        object\n",
       "dtype: object"
      ]
     },
     "execution_count": 10,
     "metadata": {},
     "output_type": "execute_result"
    }
   ],
   "source": [
    "#Data types - patients\n",
    "sdohdata.dtypes"
   ]
  },
  {
   "cell_type": "code",
   "execution_count": 11,
   "id": "335f53b3",
   "metadata": {
    "gather": {
     "logged": 1670504366988
    }
   },
   "outputs": [
    {
     "data": {
      "text/html": [
       "<div>\n",
       "<style scoped>\n",
       "    .dataframe tbody tr th:only-of-type {\n",
       "        vertical-align: middle;\n",
       "    }\n",
       "\n",
       "    .dataframe tbody tr th {\n",
       "        vertical-align: top;\n",
       "    }\n",
       "\n",
       "    .dataframe thead th {\n",
       "        text-align: right;\n",
       "    }\n",
       "</style>\n",
       "<table border=\"1\" class=\"dataframe\">\n",
       "  <thead>\n",
       "    <tr style=\"text-align: right;\">\n",
       "      <th></th>\n",
       "      <th>patients_ZIP</th>\n",
       "      <th>patients_LAT</th>\n",
       "      <th>patients_LON</th>\n",
       "      <th>patients_HEALTHCARE_EXPENSES</th>\n",
       "      <th>patients_HEALTHCARE_COVERAGE</th>\n",
       "      <th>SDoH_2020_ZIPCODE_1_0_Risk_Score</th>\n",
       "      <th>Servicer_ZiPcode</th>\n",
       "      <th>Servicer_LON</th>\n",
       "      <th>Servicer_LAT</th>\n",
       "      <th>Distance_miles_to_Servicer</th>\n",
       "    </tr>\n",
       "  </thead>\n",
       "  <tbody>\n",
       "    <tr>\n",
       "      <th>count</th>\n",
       "      <td>171.000000</td>\n",
       "      <td>171.000000</td>\n",
       "      <td>171.000000</td>\n",
       "      <td>1.710000e+02</td>\n",
       "      <td>171.000000</td>\n",
       "      <td>171.000000</td>\n",
       "      <td>171.0</td>\n",
       "      <td>1.710000e+02</td>\n",
       "      <td>1.710000e+02</td>\n",
       "      <td>171.000000</td>\n",
       "    </tr>\n",
       "    <tr>\n",
       "      <th>mean</th>\n",
       "      <td>1946.847953</td>\n",
       "      <td>42.305043</td>\n",
       "      <td>-71.359226</td>\n",
       "      <td>8.704153e+05</td>\n",
       "      <td>30851.625088</td>\n",
       "      <td>0.477485</td>\n",
       "      <td>1013.0</td>\n",
       "      <td>4.250015e+01</td>\n",
       "      <td>-7.296331e+01</td>\n",
       "      <td>85.421053</td>\n",
       "    </tr>\n",
       "    <tr>\n",
       "      <th>std</th>\n",
       "      <td>463.930282</td>\n",
       "      <td>0.241967</td>\n",
       "      <td>0.724387</td>\n",
       "      <td>5.970518e+05</td>\n",
       "      <td>104205.631720</td>\n",
       "      <td>0.298337</td>\n",
       "      <td>0.0</td>\n",
       "      <td>4.988407e-14</td>\n",
       "      <td>2.422940e-13</td>\n",
       "      <td>33.821476</td>\n",
       "    </tr>\n",
       "    <tr>\n",
       "      <th>min</th>\n",
       "      <td>1007.000000</td>\n",
       "      <td>41.622028</td>\n",
       "      <td>-73.231822</td>\n",
       "      <td>1.005719e+04</td>\n",
       "      <td>0.000000</td>\n",
       "      <td>0.020000</td>\n",
       "      <td>1013.0</td>\n",
       "      <td>4.250015e+01</td>\n",
       "      <td>-7.296331e+01</td>\n",
       "      <td>12.000000</td>\n",
       "    </tr>\n",
       "    <tr>\n",
       "      <th>25%</th>\n",
       "      <td>1726.500000</td>\n",
       "      <td>42.180290</td>\n",
       "      <td>-71.516084</td>\n",
       "      <td>2.357878e+05</td>\n",
       "      <td>4432.200000</td>\n",
       "      <td>0.230000</td>\n",
       "      <td>1013.0</td>\n",
       "      <td>4.250015e+01</td>\n",
       "      <td>-7.296331e+01</td>\n",
       "      <td>74.000000</td>\n",
       "    </tr>\n",
       "    <tr>\n",
       "      <th>50%</th>\n",
       "      <td>2116.000000</td>\n",
       "      <td>42.327623</td>\n",
       "      <td>-71.118449</td>\n",
       "      <td>8.721653e+05</td>\n",
       "      <td>8837.020000</td>\n",
       "      <td>0.470000</td>\n",
       "      <td>1013.0</td>\n",
       "      <td>4.250015e+01</td>\n",
       "      <td>-7.296331e+01</td>\n",
       "      <td>94.000000</td>\n",
       "    </tr>\n",
       "    <tr>\n",
       "      <th>75%</th>\n",
       "      <td>2176.000000</td>\n",
       "      <td>42.431098</td>\n",
       "      <td>-71.003321</td>\n",
       "      <td>1.400338e+06</td>\n",
       "      <td>18815.455000</td>\n",
       "      <td>0.760000</td>\n",
       "      <td>1013.0</td>\n",
       "      <td>4.250015e+01</td>\n",
       "      <td>-7.296331e+01</td>\n",
       "      <td>101.000000</td>\n",
       "    </tr>\n",
       "    <tr>\n",
       "      <th>max</th>\n",
       "      <td>2767.000000</td>\n",
       "      <td>42.850575</td>\n",
       "      <td>-69.967737</td>\n",
       "      <td>1.901642e+06</td>\n",
       "      <td>927873.530000</td>\n",
       "      <td>0.980000</td>\n",
       "      <td>1013.0</td>\n",
       "      <td>4.250015e+01</td>\n",
       "      <td>-7.296331e+01</td>\n",
       "      <td>165.000000</td>\n",
       "    </tr>\n",
       "  </tbody>\n",
       "</table>\n",
       "</div>"
      ],
      "text/plain": [
       "       patients_ZIP  patients_LAT  patients_LON  patients_HEALTHCARE_EXPENSES  \\\n",
       "count    171.000000    171.000000    171.000000                  1.710000e+02   \n",
       "mean    1946.847953     42.305043    -71.359226                  8.704153e+05   \n",
       "std      463.930282      0.241967      0.724387                  5.970518e+05   \n",
       "min     1007.000000     41.622028    -73.231822                  1.005719e+04   \n",
       "25%     1726.500000     42.180290    -71.516084                  2.357878e+05   \n",
       "50%     2116.000000     42.327623    -71.118449                  8.721653e+05   \n",
       "75%     2176.000000     42.431098    -71.003321                  1.400338e+06   \n",
       "max     2767.000000     42.850575    -69.967737                  1.901642e+06   \n",
       "\n",
       "       patients_HEALTHCARE_COVERAGE  SDoH_2020_ZIPCODE_1_0_Risk_Score  \\\n",
       "count                    171.000000                        171.000000   \n",
       "mean                   30851.625088                          0.477485   \n",
       "std                   104205.631720                          0.298337   \n",
       "min                        0.000000                          0.020000   \n",
       "25%                     4432.200000                          0.230000   \n",
       "50%                     8837.020000                          0.470000   \n",
       "75%                    18815.455000                          0.760000   \n",
       "max                   927873.530000                          0.980000   \n",
       "\n",
       "       Servicer_ZiPcode  Servicer_LON  Servicer_LAT  \\\n",
       "count             171.0  1.710000e+02  1.710000e+02   \n",
       "mean             1013.0  4.250015e+01 -7.296331e+01   \n",
       "std                 0.0  4.988407e-14  2.422940e-13   \n",
       "min              1013.0  4.250015e+01 -7.296331e+01   \n",
       "25%              1013.0  4.250015e+01 -7.296331e+01   \n",
       "50%              1013.0  4.250015e+01 -7.296331e+01   \n",
       "75%              1013.0  4.250015e+01 -7.296331e+01   \n",
       "max              1013.0  4.250015e+01 -7.296331e+01   \n",
       "\n",
       "       Distance_miles_to_Servicer  \n",
       "count                  171.000000  \n",
       "mean                    85.421053  \n",
       "std                     33.821476  \n",
       "min                     12.000000  \n",
       "25%                     74.000000  \n",
       "50%                     94.000000  \n",
       "75%                    101.000000  \n",
       "max                    165.000000  "
      ]
     },
     "execution_count": 11,
     "metadata": {},
     "output_type": "execute_result"
    }
   ],
   "source": [
    "#Data Summary - patients\n",
    "sdohdata.describe()"
   ]
  },
  {
   "cell_type": "code",
   "execution_count": 12,
   "id": "b0043183",
   "metadata": {
    "gather": {
     "logged": 1670504688723
    }
   },
   "outputs": [
    {
     "data": {
      "text/plain": [
       "Diabetes         72\n",
       "Heart Disease    63\n",
       "Asthma           36\n",
       "Name: conditions_DESCRIPTION, dtype: int64"
      ]
     },
     "execution_count": 12,
     "metadata": {},
     "output_type": "execute_result"
    }
   ],
   "source": [
    "sdohdata['conditions_DESCRIPTION'].value_counts()"
   ]
  },
  {
   "cell_type": "code",
   "execution_count": 13,
   "id": "a3abe57d",
   "metadata": {
    "gather": {
     "logged": 1670504744846
    }
   },
   "outputs": [
    {
     "data": {
      "text/plain": [
       "white     127\n",
       "black      19\n",
       "asian      18\n",
       "native      7\n",
       "Name: patients_RACE, dtype: int64"
      ]
     },
     "execution_count": 13,
     "metadata": {},
     "output_type": "execute_result"
    }
   ],
   "source": [
    "sdohdata['patients_RACE'].value_counts()"
   ]
  },
  {
   "cell_type": "code",
   "execution_count": 14,
   "id": "b0f89588",
   "metadata": {
    "gather": {
     "logged": 1670504828634
    }
   },
   "outputs": [
    {
     "data": {
      "text/plain": [
       "M    88\n",
       "F    83\n",
       "Name: patients_GENDER, dtype: int64"
      ]
     },
     "execution_count": 14,
     "metadata": {},
     "output_type": "execute_result"
    }
   ],
   "source": [
    "sdohdata['patients_GENDER'].value_counts()"
   ]
  },
  {
   "cell_type": "code",
   "execution_count": 15,
   "id": "67a1b07f",
   "metadata": {
    "gather": {
     "logged": 1670505789840
    },
    "scrolled": true
   },
   "outputs": [
    {
     "data": {
      "text/plain": [
       "((array([-2.64826633, -2.33322292, -2.15314298, -2.02391947, -1.92165302,\n",
       "         -1.83625178, -1.76246111, -1.69718116, -1.63842335, -1.58483246,\n",
       "         -1.53544156, -1.48953557, -1.44657001, -1.40612037, -1.3678489 ,\n",
       "         -1.33148227, -1.29679606, -1.26360354, -1.23174767, -1.201095  ,\n",
       "         -1.17153114, -1.14295725, -1.11528728, -1.08844585, -1.06236652,\n",
       "         -1.03699042, -1.0122651 , -0.98814363, -0.96458382, -0.94154762,\n",
       "         -0.91900053, -0.89691123, -0.87525112, -0.85399407, -0.83311607,\n",
       "         -0.81259506, -0.79241067, -0.77254407, -0.75297781, -0.73369566,\n",
       "         -0.71468252, -0.69592431, -0.67740783, -0.65912076, -0.64105151,\n",
       "         -0.62318918, -0.60552351, -0.58804483, -0.57074399, -0.55361232,\n",
       "         -0.53664162, -0.5198241 , -0.50315233, -0.48661926, -0.47021815,\n",
       "         -0.45394257, -0.43778637, -0.42174364, -0.40580873, -0.38997621,\n",
       "         -0.37424085, -0.35859762, -0.34304166, -0.32756827, -0.31217292,\n",
       "         -0.29685121, -0.28159888, -0.26641178, -0.25128588, -0.23621726,\n",
       "         -0.22120209, -0.20623663, -0.19131722, -0.17644028, -0.16160228,\n",
       "         -0.14679979, -0.13202939, -0.11728774, -0.10257153, -0.08787751,\n",
       "         -0.07320244, -0.05854311, -0.04389636, -0.02925902, -0.01462794,\n",
       "          0.        ,  0.01462794,  0.02925902,  0.04389636,  0.05854311,\n",
       "          0.07320244,  0.08787751,  0.10257153,  0.11728774,  0.13202939,\n",
       "          0.14679979,  0.16160228,  0.17644028,  0.19131722,  0.20623663,\n",
       "          0.22120209,  0.23621726,  0.25128588,  0.26641178,  0.28159888,\n",
       "          0.29685121,  0.31217292,  0.32756827,  0.34304166,  0.35859762,\n",
       "          0.37424085,  0.38997621,  0.40580873,  0.42174364,  0.43778637,\n",
       "          0.45394257,  0.47021815,  0.48661926,  0.50315233,  0.5198241 ,\n",
       "          0.53664162,  0.55361232,  0.57074399,  0.58804483,  0.60552351,\n",
       "          0.62318918,  0.64105151,  0.65912076,  0.67740783,  0.69592431,\n",
       "          0.71468252,  0.73369566,  0.75297781,  0.77254407,  0.79241067,\n",
       "          0.81259506,  0.83311607,  0.85399407,  0.87525112,  0.89691123,\n",
       "          0.91900053,  0.94154762,  0.96458382,  0.98814363,  1.0122651 ,\n",
       "          1.03699042,  1.06236652,  1.08844585,  1.11528728,  1.14295725,\n",
       "          1.17153114,  1.201095  ,  1.23174767,  1.26360354,  1.29679606,\n",
       "          1.33148227,  1.3678489 ,  1.40612037,  1.44657001,  1.48953557,\n",
       "          1.53544156,  1.58483246,  1.63842335,  1.69718116,  1.76246111,\n",
       "          1.83625178,  1.92165302,  2.02391947,  2.15314298,  2.33322292,\n",
       "          2.64826633]),\n",
       "  array([0.02, 0.02, 0.03, 0.03, 0.03, 0.03, 0.03, 0.03, 0.05, 0.05, 0.05,\n",
       "         0.05, 0.05, 0.07, 0.08, 0.08, 0.08, 0.08, 0.09, 0.09, 0.1 , 0.1 ,\n",
       "         0.14, 0.16, 0.16, 0.16, 0.16, 0.17, 0.17, 0.17, 0.17, 0.18, 0.18,\n",
       "         0.18, 0.18, 0.18, 0.19, 0.19, 0.19, 0.21, 0.21, 0.22, 0.23, 0.23,\n",
       "         0.23, 0.23, 0.23, 0.23, 0.23, 0.23, 0.23, 0.23, 0.23, 0.23, 0.24,\n",
       "         0.26, 0.26, 0.27, 0.27, 0.27, 0.27, 0.27, 0.28, 0.28, 0.28, 0.28,\n",
       "         0.29, 0.29, 0.29, 0.29, 0.32, 0.32, 0.35, 0.35, 0.36, 0.36, 0.36,\n",
       "         0.4 , 0.42, 0.42, 0.44, 0.44, 0.47, 0.47, 0.47, 0.47, 0.47, 0.47,\n",
       "         0.47, 0.47, 0.47, 0.52, 0.52, 0.52, 0.52, 0.52, 0.53, 0.54, 0.54,\n",
       "         0.55, 0.55, 0.56, 0.59, 0.62, 0.62, 0.63, 0.63, 0.65, 0.65, 0.66,\n",
       "         0.66, 0.66, 0.67, 0.67, 0.69, 0.69, 0.69, 0.69, 0.69, 0.69, 0.71,\n",
       "         0.72, 0.72, 0.73, 0.73, 0.74, 0.74, 0.75, 0.77, 0.77, 0.78, 0.78,\n",
       "         0.79, 0.79, 0.79, 0.81, 0.82, 0.82, 0.82, 0.83, 0.83, 0.84, 0.85,\n",
       "         0.85, 0.85, 0.85, 0.85, 0.85, 0.86, 0.86, 0.88, 0.88, 0.88, 0.88,\n",
       "         0.89, 0.89, 0.91, 0.91, 0.91, 0.91, 0.92, 0.92, 0.92, 0.93, 0.93,\n",
       "         0.93, 0.93, 0.96, 0.96, 0.98, 0.98])),\n",
       " (0.2907842044808176, 0.4774853801169591, 0.9650838801494791))"
      ]
     },
     "execution_count": 15,
     "metadata": {},
     "output_type": "execute_result"
    },
    {
     "data": {
      "image/png": "[encoded data removed]",
      "text/plain": [
       "<Figure size 432x288 with 1 Axes>"
      ]
     },
     "metadata": {},
     "output_type": "display_data"
    }
   ],
   "source": [
    "#Test for normality\n",
    "#Age\n",
    "#LOS\n",
    "#Painseverity0to10verbalnumericratingScore_Reported_score\n",
    "#BodyHeight_cm\n",
    "#BodyWeight_kg\n",
    "#DiastolicBloodPressure_mmHg\n",
    "#Heartrate_permin\n",
    "#Respiratoryrate_permin\n",
    "#SystolicBloodPressure_mmHg\n",
    "#Bodytemperature_Cel\n",
    "#BodyMassIndex_kgperm2\n",
    "stats.probplot(sdohdata['SDoH_2020_ZIPCODE_1_0_Risk_Score'], dist=\"norm\",plot=pylab)"
   ]
  },
  {
   "cell_type": "code",
   "execution_count": 40,
   "id": "c1036375",
   "metadata": {
    "gather": {
     "logged": 1666631884586
    }
   },
   "outputs": [],
   "source": [
    "#Export to csv\n",
    "#dataframe.to_csv(r'C:\\Users\\...\\dataframe.csv', index = False)"
   ]
  }
 ],
 "metadata": {
  "kernel_info": {
   "name": "python38-azureml"
  },
  "kernelspec": {
   "display_name": "Python 3 (ipykernel)",
   "language": "python",
   "name": "python3"
  },
  "language_info": {
   "codemirror_mode": {
    "name": "ipython",
    "version": 3
   },
   "file_extension": ".py",
   "mimetype": "text/x-python",
   "name": "python",
   "nbconvert_exporter": "python",
   "pygments_lexer": "ipython3",
   "version": "3.9.7"
  },
  "microsoft": {
   "host": {
    "AzureML": {
     "notebookHasBeenCompleted": true
    }
   }
  },
  "nteract": {
   "version": "nteract-front-end@1.0.0"
  }
 },
 "nbformat": 4,
 "nbformat_minor": 5
}
